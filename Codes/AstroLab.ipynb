{
 "metadata": {
  "name": ""
 },
 "nbformat": 3,
 "nbformat_minor": 0,
 "worksheets": [
  {
   "cells": [
    {
     "cell_type": "markdown",
     "metadata": {},
     "source": [
      "Content\n",
      "=======\n",
      "\n",
      "- [Task 6: Detection of extrasolar planets](#Task-6:-Detection-of-extrasolar-planets)\n",
      "- [Task 10: The Hubble law and the expansion of the Universe](#Task-10:-The-Hubble-law-and-the-expansion-of-the-Universe)"
     ]
    },
    {
     "cell_type": "code",
     "collapsed": false,
     "input": [
      "%pylab inline\n",
      "import numpy as np\n",
      "import matplotlib.pylab as plt\n",
      "from fitool import fit"
     ],
     "language": "python",
     "metadata": {},
     "outputs": [
      {
       "output_type": "stream",
       "stream": "stdout",
       "text": [
        "Populating the interactive namespace from numpy and matplotlib\n"
       ]
      }
     ],
     "prompt_number": 5
    },
    {
     "cell_type": "heading",
     "level": 1,
     "metadata": {},
     "source": [
      "Task 10: The Hubble law and the expansion of the Universe"
     ]
    },
    {
     "cell_type": "heading",
     "level": 1,
     "metadata": {},
     "source": [
      "Lab-Tasks I"
     ]
    },
    {
     "cell_type": "heading",
     "level": 3,
     "metadata": {},
     "source": [
      "Observed wavelenght of Ly$\\alpha$ at redshift $z=6.4$"
     ]
    },
    {
     "cell_type": "code",
     "collapsed": false,
     "input": [
      "(6.4+1)*1215.67"
     ],
     "language": "python",
     "metadata": {},
     "outputs": [
      {
       "metadata": {},
       "output_type": "pyout",
       "prompt_number": 1,
       "text": [
        "8995.958"
       ]
      }
     ],
     "prompt_number": 1
    },
    {
     "cell_type": "heading",
     "level": 3,
     "metadata": {},
     "source": [
      "Highest observed quasar by SDSS is ULAS J112001.48+064124.3"
     ]
    },
    {
     "cell_type": "heading",
     "level": 1,
     "metadata": {},
     "source": [
      "Lab-Tasks II: The Cepheid Method"
     ]
    },
    {
     "cell_type": "code",
     "collapsed": false,
     "input": [
      "data = np.loadtxt(\"CepheidData.dat\")"
     ],
     "language": "python",
     "metadata": {},
     "outputs": [],
     "prompt_number": 4
    },
    {
     "cell_type": "heading",
     "level": 3,
     "metadata": {},
     "source": [
      "Fitting data"
     ]
    },
    {
     "cell_type": "code",
     "collapsed": false,
     "input": [
      "plt.plot( data[:,0]-data[0,0], data[:,1], 'o' )\n",
      "fitfunction = lambda x,A: A[1]*np.sin(2*np.pi*A[0]*x + A[2])\n",
      "parameters = fit(data[:,0]-data[0,0],data[:,1]-data[:,1].mean(), fitfunction,( 3, 8, 5 ))\n",
      "parameters[1] = parameters[1]*1.5\n",
      "Xplot = np.linspace(0,400,200)\n",
      "plt.plot( Xplot, fitfunction(Xplot,parameters)+data[:,1].mean(), '-' )"
     ],
     "language": "python",
     "metadata": {},
     "outputs": [
      {
       "output_type": "stream",
       "stream": "stdout",
       "text": [
        "Successful fit.\n",
        "Both actual and predicted relative reductions in the sum of squares\n",
        "  are at most 0.000000\n",
        "\n",
        "The best parameters: [ 2.99873121  0.20923896  5.61256243]\n",
        "Covariance matrix:\n",
        "[[  5.02953613e-06   5.13753043e-06  -3.34398843e-03]\n",
        " [  5.13753043e-06   9.09672454e-02  -6.95168910e-02]\n",
        " [ -3.34398843e-03  -6.95168910e-02   4.06809935e+00]]\n",
        "Number of function calls: 37\n",
        "Average residual at the best fit: 0.877625\n",
        "\n"
       ]
      },
      {
       "metadata": {},
       "output_type": "pyout",
       "prompt_number": 95,
       "text": [
        "[<matplotlib.lines.Line2D at 0x7fe8ee755cd0>]"
       ]
      },
      {
       "metadata": {},
       "output_type": "display_data",
       "png": "[encoded data removed]",
       "text": [
        "<matplotlib.figure.Figure at 0x7fe8ee04af10>"
       ]
      }
     ],
     "prompt_number": 95
    },
    {
     "cell_type": "code",
     "collapsed": false,
     "input": [
      "#Method one, mean of data\n",
      "mv1 = np.sum(data[:,1])/len(data[:,0])\n",
      "#Method two, diff between maximum and minimum\n",
      "mv2 = (data[:,1].max()+data[:,1].min())/2.0\n",
      "print \"Mean magnitude: %1.3f +- %1.3f\"%( mv2, np.sum(data[:,2])/len(data[:,0]) )"
     ],
     "language": "python",
     "metadata": {},
     "outputs": [
      {
       "output_type": "stream",
       "stream": "stdout",
       "text": [
        "Mean magnitude: 23.520 +- 0.135\n"
       ]
      }
     ],
     "prompt_number": 112
    },
    {
     "cell_type": "heading",
     "level": 3,
     "metadata": {},
     "source": [
      "Determining period"
     ]
    },
    {
     "cell_type": "code",
     "collapsed": false,
     "input": [
      "Time = data[:,0]-data[0,0]\n",
      "P = -Time[np.argsort(data[:,1])[-1]]+Time[np.argsort(data[:,1])[-2]]\n",
      "print \"Period is %1.5f days\"%(P)"
     ],
     "language": "python",
     "metadata": {},
     "outputs": [
      {
       "output_type": "stream",
       "stream": "stdout",
       "text": [
        "Period is 92.77240 days\n"
       ]
      }
     ],
     "prompt_number": 102
    },
    {
     "cell_type": "heading",
     "level": 3,
     "metadata": {},
     "source": [
      "Distance Module"
     ]
    },
    {
     "cell_type": "code",
     "collapsed": false,
     "input": [
      "Mv = lambda P: -2.760*( np.log10(P) - 1.0 ) - 4.160"
     ],
     "language": "python",
     "metadata": {},
     "outputs": [],
     "prompt_number": 103
    },
    {
     "cell_type": "code",
     "collapsed": false,
     "input": [
      "print 'Distance module using mean of data: %1.3f'%(mv1 - Mv(P))"
     ],
     "language": "python",
     "metadata": {},
     "outputs": [
      {
       "output_type": "stream",
       "stream": "stdout",
       "text": [
        "Distance module using mean of data: 30.430\n"
       ]
      }
     ],
     "prompt_number": 113
    },
    {
     "cell_type": "code",
     "collapsed": false,
     "input": [
      "print 'Distance module using diff of minimum and maximum: %1.3f'%(mv2 - Mv(P))"
     ],
     "language": "python",
     "metadata": {},
     "outputs": [
      {
       "output_type": "stream",
       "stream": "stdout",
       "text": [
        "Distance module using diff of minimum and maximum: 30.350\n"
       ]
      }
     ],
     "prompt_number": 114
    },
    {
     "cell_type": "code",
     "collapsed": false,
     "input": [
      "Lum = lambda Mvi: 3.0128e28*10**(-0.4*Mvi)/3.846e26"
     ],
     "language": "python",
     "metadata": {},
     "outputs": [],
     "prompt_number": 124
    },
    {
     "cell_type": "code",
     "collapsed": false,
     "input": [
      "Lum(Mv(P))"
     ],
     "language": "python",
     "metadata": {},
     "outputs": [
      {
       "metadata": {},
       "output_type": "pyout",
       "prompt_number": 125,
       "text": [
        "42266.021435821436"
       ]
      }
     ],
     "prompt_number": 125
    },
    {
     "cell_type": "heading",
     "level": 3,
     "metadata": {},
     "source": [
      "Velocity Plot"
     ]
    },
    {
     "cell_type": "code",
     "collapsed": false,
     "input": [
      "veldata = np.loadtxt('Velocities.dat')"
     ],
     "language": "python",
     "metadata": {},
     "outputs": [],
     "prompt_number": 126
    },
    {
     "cell_type": "code",
     "collapsed": false,
     "input": [
      "distance = lambda mu: 10**(1.0+mu/5.0)"
     ],
     "language": "python",
     "metadata": {},
     "outputs": [],
     "prompt_number": 127
    },
    {
     "cell_type": "code",
     "collapsed": false,
     "input": [
      "plt.figure(figsize=(12,6))\n",
      "plt.plot( distance(veldata[:,1])/1e6, veldata[:,-1]/1000., 'o', color='red', label='data' )\n",
      "plt.grid()\n",
      "plt.xlabel('Luminic distance [Mpc]', fontsize=14 )\n",
      "plt.ylabel('Velocity [1000 km/s]', fontsize=14)\n",
      "#Fitting\n",
      "fitfunction2 = lambda x, A: A[0]*x + A[1]\n",
      "parameters2 = fit( distance(veldata[:,1])/1e6, veldata[:,-1]/1000., fitfunction2,(6,0) )\n",
      "xplot = np.linspace( 0, 25, 100)\n",
      "plt.plot( xplot, fitfunction2(xplot,parameters2), '-', color='black', lw=2, label='Linear fit' )\n",
      "plt.legend( loc='lower right', fancybox=True )"
     ],
     "language": "python",
     "metadata": {},
     "outputs": [
      {
       "output_type": "stream",
       "stream": "stdout",
       "text": [
        "Successful fit.\n",
        "Both actual and predicted relative reductions in the sum of squares\n",
        "  are at most 0.000000\n",
        "\n",
        "The best parameters: [ 0.07872153  0.16725817]\n",
        "Covariance matrix:\n",
        "[[ 0.00143185 -0.01664713]\n",
        " [-0.01664713  0.23521158]]\n",
        "Number of function calls: 7\n",
        "Average residual at the best fit: 2.31665\n",
        "\n"
       ]
      },
      {
       "metadata": {},
       "output_type": "pyout",
       "prompt_number": 147,
       "text": [
        "<matplotlib.legend.Legend at 0x7fe8ed1388d0>"
       ]
      },
      {
       "metadata": {},
       "output_type": "display_data",
       "png": "[encoded data removed]",
       "text": [
        "<matplotlib.figure.Figure at 0x7fe8ed164ad0>"
       ]
      }
     ],
     "prompt_number": 147
    },
    {
     "cell_type": "markdown",
     "metadata": {},
     "source": [
      "From our linear fitting, the slope is given by $78.7\\,(km/s)/Mpc$."
     ]
    },
    {
     "cell_type": "heading",
     "level": 3,
     "metadata": {},
     "source": [
      "Age of Universe"
     ]
    },
    {
     "cell_type": "markdown",
     "metadata": {},
     "source": [
      "According to our result, the age of the universe is: $12.4\\, Gyrs$."
     ]
    },
    {
     "cell_type": "heading",
     "level": 1,
     "metadata": {},
     "source": [
      "Lab-Tasks III: Hubble constant from Supernovae"
     ]
    },
    {
     "cell_type": "code",
     "collapsed": false,
     "input": [
      "SNdata = np.loadtxt(\"SN.dat\")"
     ],
     "language": "python",
     "metadata": {},
     "outputs": [],
     "prompt_number": 2
    },
    {
     "cell_type": "code",
     "collapsed": false,
     "input": [
      "plt.figure(figsize=(12,6))\n",
      "mobseff = SNdata[:,2] + SNdata[:,6] - SNdata[:,5] - SNdata[:,4]\n",
      "plt.errorbar(SNdata[:,0], mobseff, xerr=SNdata[:,1], yerr=SNdata[:,3], fmt='.', ms=10)\n",
      "\n",
      "fitfunction3 = lambda z, A: 5*np.log10(z) + A\n",
      "parameters3 = fit( SNdata[:,0], mobseff, fitfunction3,(20) )\n",
      "\n",
      "#plt.errorbar(SNdata[:,0], SNdata[:,2], xerr=SNdata[:,1], yerr=SNdata[:,3], fmt='.', ms=10)\n",
      "plt.semilogx()\n",
      "plt.grid()\n",
      "plt.xlabel(\"Redshift\", fontsize = 14)\n",
      "plt.ylabel(\"$m_B^{eff}$\", fontsize = 14)"
     ],
     "language": "python",
     "metadata": {},
     "outputs": [
      {
       "output_type": "stream",
       "stream": "stdout",
       "text": [
        "Successful fit.\n",
        "Both actual and predicted relative reductions in the sum of squares\n",
        "  are at most 0.000000 and the relative error between two consecutive iterates is at \n",
        "  most 0.000000\n",
        "\n",
        "The best parameters: [ 24.45325788]\n",
        "Covariance matrix:\n",
        "[[ 0.01666667]]\n",
        "Number of function calls: 5\n",
        "Average residual at the best fit: 3.23593\n",
        "\n"
       ]
      },
      {
       "metadata": {},
       "output_type": "pyout",
       "prompt_number": 3,
       "text": [
        "<matplotlib.text.Text at 0x7f942dd6ad50>"
       ]
      },
      {
       "metadata": {},
       "output_type": "display_data",
       "png": "[encoded data removed]",
       "text": [
        "<matplotlib.figure.Figure at 0x7f942e1c5910>"
       ]
      }
     ],
     "prompt_number": 3
    },
    {
     "cell_type": "code",
     "collapsed": false,
     "input": [
      "10**((24.1 + 19.47-25)/-5.0)*299792"
     ],
     "language": "python",
     "metadata": {},
     "outputs": [
      {
       "metadata": {},
       "output_type": "pyout",
       "prompt_number": 173,
       "text": [
        "57.91886456951377"
       ]
      }
     ],
     "prompt_number": 173
    },
    {
     "cell_type": "code",
     "collapsed": false,
     "input": [
      "57.91*np.log(10)/5.0*(0.0416)"
     ],
     "language": "python",
     "metadata": {},
     "outputs": [
      {
       "metadata": {},
       "output_type": "pyout",
       "prompt_number": 174,
       "text": [
        "1.1094112867575729"
       ]
      }
     ],
     "prompt_number": 174
    },
    {
     "cell_type": "heading",
     "level": 1,
     "metadata": {},
     "source": [
      "Lab-Task IV: Extracting the best Cosmological model from your own Hubble diagram"
     ]
    },
    {
     "cell_type": "heading",
     "level": 3,
     "metadata": {},
     "source": [
      "Luminosity distance from distance modulus"
     ]
    },
    {
     "cell_type": "code",
     "collapsed": false,
     "input": [
      "SCDM_solutions(zwindow,0.1)"
     ],
     "language": "python",
     "metadata": {},
     "outputs": [
      {
       "metadata": {},
       "output_type": "pyout",
       "prompt_number": 29,
       "text": [
        "array([       0.        ,    40852.98106111,    82056.78859562,\n",
        "         123610.94517936,   165514.97447132,   207768.40120839,\n",
        "         250370.75120271,   293321.55133788,   336620.32956523,\n",
        "         380266.61490226,   424259.93742662,   468599.8282746 ,\n",
        "         513285.81963735,   558317.4447575 ,   603694.23792612,\n",
        "         649415.73447855,   695481.47079218,   741890.98428303,\n",
        "         788643.81340121,   835739.49762978,   883177.5774799 ,\n",
        "         930957.59448809,   979079.09121332,  1027541.61123351,\n",
        "        1076344.69914259,  1125487.90054667,  1174970.7620618 ,\n",
        "        1224792.83131057,  1274953.65691833,  1325452.78851131,\n",
        "        1376289.77671169,  1427464.17313727,  1478975.53039536,\n",
        "        1530823.40208133,  1583007.34277595,  1635526.90804121,\n",
        "        1688381.65441809,  1741571.13942277,  1795094.92154513,\n",
        "        1848952.56024381,  1903143.61594438,  1957667.65003661,\n",
        "        2012524.22487119,  2067712.90375545,  2123233.25095308,\n",
        "        2179084.83167918,  2235267.21209762,  2291779.95931952,\n",
        "        2348622.64139763,  2405794.82732702,  2463296.08703947,\n",
        "        2521125.99140081,  2579284.11220978,  2637770.02219428,\n",
        "        2696583.29500715,  2755723.50522627,  2815190.22834917,\n",
        "        2874983.04079127,  2935101.51988346,  2995545.24386844,\n",
        "        3056313.79189917,  3117406.74403436,  3178823.68123765,\n",
        "        3240564.18537394,  3302627.83920663,  3365014.2263947 ,\n",
        "        3427722.9314908 ,  3490753.53993814,  3554105.63806762,\n",
        "        3617778.8130958 ,  3681772.65312084,  3746086.74712245,\n",
        "        3810720.68495554,  3875674.05735161,  3940946.45591361,\n",
        "        4006537.47311392,  4072446.70229103,  4138673.73764914,\n",
        "        4205218.17425329,  4272079.60802814,  4339257.63575502,\n",
        "        4406751.85506852,  4474561.86445573,  4542687.26325246,\n",
        "        4611127.65164133,  4679882.63064847,  4748951.80214186,\n",
        "        4818334.76882841,  4888031.13425169,  4958040.50279002,\n",
        "        5028362.47965154,  5098996.67087577,  5169942.68332792,\n",
        "        5241200.1246974 ,  5312768.60349622,  5384647.72905502,\n",
        "        5456837.1115225 ,  5529336.36186212,  5602145.09184833,\n",
        "        5675262.91406691])"
       ]
      }
     ],
     "prompt_number": 29
    },
    {
     "cell_type": "code",
     "collapsed": false,
     "input": [
      "mobseff = SNdata[:,2] + SNdata[:,6] - SNdata[:,5] - SNdata[:,4]\n",
      "Modulus = mobseff + 19.47\n",
      "Ldistance = lambda Mod: 10**((Mod - 25)/5.0)\n",
      "cz = SNdata[:,0]*299792.5\n",
      "Ldis = Ldistance(Modulus)*1e-3\n",
      "\n",
      "#Fitting\n",
      "fitfunction4 = lambda d, A: A[0]*d + A[1]\n",
      "parameters4 = fit( Ldis[Ldis<1.5], cz[Ldis<1.5], fitfunction4,(1,1) )\n",
      "parameters5 = fit( Ldis[Ldis>1.5], cz[Ldis>1.5], fitfunction4,(1,1) )\n",
      "\n",
      "plt.figure(figsize=(18,6))\n",
      "plt.subplot(1,2,1)\n",
      "plt.plot( Ldis, cz,'o' )\n",
      "xplotwindow = np.linspace(0,7,200)\n",
      "plt.plot( xplotwindow, fitfunction4(xplotwindow, parameters4),'--', lw=2, label='Fit for $z<0.15$' )\n",
      "plt.plot( xplotwindow, fitfunction4(xplotwindow, parameters5),'--', lw=2, label='Fit for $z>0.15$' )\n",
      "plt.grid()\n",
      "plt.xlabel('Luminic distance $L_{lum}$ [Gpc]', fontsize=14)\n",
      "plt.ylabel('Velocity $cz$ [km/s]', fontsize=14)\n",
      "plt.legend( loc='lower right', fancybox=True )\n",
      "plt.xlim( (0,7) )\n",
      "plt.ylim( (0,300000) )\n",
      "\n",
      "\n",
      "\n",
      "#Generating curves of different models\n",
      "def SCDM_solutions( z, OmegaM ):\n",
      "    qo = OmegaM/2.0\n",
      "    dL = (299792.5/67e3)*(1/qo**2)*( qo*z + (qo-1)*(np.sqrt(1+2*qo*z)-1) )\n",
      "    return dL\n",
      "\n",
      "def SCDM_single( z ):\n",
      "    dL = 2*(299792.5/67e3)*(1+z-np.sqrt(1+z) )\n",
      "    return dL\n",
      "\n",
      "plt.subplot(1,2,2)\n",
      "plt.plot( Ldis, cz,'o' )\n",
      "zwindow = np.linspace(0,1.5,100)\n",
      "plt.plot( SCDM_solutions(zwindow,0.002), 299792.5*zwindow,'-', lw=2, label='SCDM $\\Omega_M = 0.002$' )\n",
      "plt.plot( SCDM_solutions(zwindow,0.1), 299792.5*zwindow,'-', lw=2, label='SCDM $\\Omega_M = 0.1$' )\n",
      "plt.plot( SCDM_solutions(zwindow,0.5), 299792.5*zwindow,'-', lw=2, label='SCDM $\\Omega_M = 0.5$' )\n",
      "plt.plot( SCDM_solutions(zwindow,1), 299792.5*zwindow,'-', lw=2, label='SCDM $\\Omega_M = 1$' )\n",
      "#plt.plot( SCDM_single(zwindow), 299792.5*zwindow,'-', lw=2, label='SCDM' )\n",
      "\n",
      "plt.grid()\n",
      "plt.xlabel('Luminic distance $L_{lum}$ [Gpc]', fontsize=14)\n",
      "plt.ylabel('Velocity $cz$ [km/s]', fontsize=14)\n",
      "plt.legend( loc='lower right', fancybox=True )\n",
      "plt.xlim( (0,7) )\n",
      "plt.ylim( (0,300000) )"
     ],
     "language": "python",
     "metadata": {},
     "outputs": [
      {
       "output_type": "stream",
       "stream": "stdout",
       "text": [
        "Successful fit.\n",
        "Both actual and predicted relative reductions in the sum of squares\n",
        "  are at most 0.000000\n",
        "\n",
        "The best parameters: [ 56193.41070219    468.46354673]\n",
        "Covariance matrix:\n",
        "[[ 0.89248566 -0.28752977]\n",
        " [-0.28752977  0.14263272]]\n",
        "Number of function calls: 31\n",
        "Average residual at the best fit: 8090.62\n",
        "\n",
        "Successful fit.\n",
        "The relative error between two consecutive iterates is at most 0.000000\n",
        "\n",
        "The best parameters: [ 28142.49091696  55529.86438852]\n",
        "Covariance matrix:\n",
        "[[ 0.01954539 -0.06795412]\n",
        " [-0.06795412  0.26125846]]\n",
        "Number of function calls: 31\n",
        "Average residual at the best fit: 120800\n",
        "\n"
       ]
      },
      {
       "metadata": {},
       "output_type": "pyout",
       "prompt_number": 43,
       "text": [
        "(0, 300000)"
       ]
      },
      {
       "metadata": {},
       "output_type": "display_data",
       "png": "[encoded data removed]",
       "text": [
        "<matplotlib.figure.Figure at 0x7f942c062e10>"
       ]
      }
     ],
     "prompt_number": 43
    },
    {
     "cell_type": "heading",
     "level": 3,
     "metadata": {},
     "source": [
      "Matting Formula"
     ]
    },
    {
     "cell_type": "markdown",
     "metadata": {},
     "source": [
      "$$d_L = \\frac{c}{H_0}\\frac{1}{q_0^2}(q_0 z + (q_0-1)[\\sqrt{1+2q_0z}-1] )$$\n",
      "\n",
      "In the regime where $z\\ll 1$ and $q_0<1$, it is possible to approximate the expression to:\n",
      "\n",
      "$$d_L = \\frac{c}{H_0}\\frac{1}{q_0^2}(q_0 z + (q_0-1)[1+\\frac{2}{2}q_0z-1] )$$\n",
      "$$d_L = \\frac{c}{H_0}\\frac{1}{q_0^2}(q_0 z + q_0^2z-q_0z] )$$\n",
      "$$d_L = \\frac{cz}{H_0}$$"
     ]
    },
    {
     "cell_type": "heading",
     "level": 3,
     "metadata": {},
     "source": [
      "Plotting different Universes"
     ]
    },
    {
     "cell_type": "code",
     "collapsed": false,
     "input": [
      "#defining different universes\n",
      "\n",
      "def SCDM_solutions( z, OmegaM ):\n",
      "    qo = OmegaM/2.0\n",
      "    dL = (299792.5/67e3)*(1/qo**2)*( qo*z + (qo-1)*(np.sqrt(1+2*qo*z)-1) )\n",
      "    return dL\n",
      "\n",
      "def deSitter_solutions( z ):\n",
      "    dL = (299792.5/67e3)*z*(1+z)\n",
      "    return dL\n",
      "\n",
      "def LCDM_solutions( z, OmegaM ):\n",
      "    s = ((1.0-OmegaM)/OmegaM)**(1/3.0)\n",
      "    eta = lambda z: 2*(s**3+1)**0.5*( (1+z)**4 - 0.1540*s*(1+z)**3 + 0.4304*s**2*(1+z)**2 + 0.19097*s**3*(1+z)+0.066941*s**4 )**(-1/8.)\n",
      "    dL = (299792.5/67e3)*(1+z)*(eta(0)-eta(z))\n",
      "    return dL"
     ],
     "language": "python",
     "metadata": {},
     "outputs": [],
     "prompt_number": 44
    },
    {
     "cell_type": "code",
     "collapsed": false,
     "input": [
      "plt.figure(figsize=(12,6))\n",
      "Fmodulus = lambda L: 5*np.log10(L*1e3)+25\n",
      "\n",
      "plt.plot( Fmodulus(Ldis), cz/299792.5,'o' )\n",
      "xplotwindow = np.linspace(0,7,200)\n",
      "plt.plot( Fmodulus(deSitter_solutions(zwindow)), zwindow,'-', lw=2, label='de Sitter' )\n",
      "\n",
      "plt.plot( Fmodulus(SCDM_solutions(zwindow,0.5)), zwindow,'-', lw=2, label='SCDM $\\Omega_M = 0.5$' )\n",
      "\n",
      "plt.plot( Fmodulus(LCDM_solutions(zwindow,0.25)), zwindow,'-', lw=2, label='$\\Lambda$CDM $\\Omega_M = 0.25$' )\n",
      "plt.plot( Fmodulus(LCDM_solutions(zwindow,0.5)), zwindow,'-', lw=2, label='$\\Lambda$CDM $\\Omega_M = 0.5$' )\n",
      "plt.plot( Fmodulus(LCDM_solutions(zwindow,1)), zwindow,'-', lw=2, label='$\\Lambda$CDM $\\Omega_M = 1$' )\n",
      "\n",
      "\n",
      "plt.grid()\n",
      "plt.xlabel('Distance Modulus', fontsize=14)\n",
      "plt.ylabel('Redshift', fontsize=14)\n",
      "plt.legend( loc='lower right', fancybox=True )\n",
      "plt.xlim( (32,46) )\n",
      "plt.ylim( (0,1.2) )\n",
      "\n"
     ],
     "language": "python",
     "metadata": {},
     "outputs": [
      {
       "metadata": {},
       "output_type": "pyout",
       "prompt_number": 60,
       "text": [
        "(0, 1.2)"
       ]
      },
      {
       "metadata": {},
       "output_type": "display_data",
       "png": "[encoded data removed]",
       "text": [
        "<matplotlib.figure.Figure at 0x7f942d1ac550>"
       ]
      }
     ],
     "prompt_number": 60
    },
    {
     "cell_type": "markdown",
     "metadata": {},
     "source": [
      "- - -"
     ]
    },
    {
     "cell_type": "heading",
     "level": 1,
     "metadata": {},
     "source": [
      "Task 6: Detection of extrasolar planets"
     ]
    },
    {
     "cell_type": "heading",
     "level": 2,
     "metadata": {},
     "source": [
      "1. Astrometry"
     ]
    },
    {
     "cell_type": "code",
     "collapsed": false,
     "input": [
      "Msun = 1.989e30 #[kg]\n",
      "Mearth = 5.9722e24 #[kg]\n",
      "Mjup = 1.898e27 #[kg]\n",
      "Mhotjup = 1.898e28 #[kg]\n",
      "\n",
      "Rearth = 1 #[AU]\n",
      "Rjup = 5.204 #[AU]\n",
      "Rhotjup = 0.05 #[AU]\n",
      "\n",
      "#Cavendish constant\n",
      "G = 1.98524e-29 #[AU**3/kg/yr**2]"
     ],
     "language": "python",
     "metadata": {},
     "outputs": [],
     "prompt_number": 95
    },
    {
     "cell_type": "markdown",
     "metadata": {},
     "source": [
      "Orbits of systems Sun-Planet"
     ]
    },
    {
     "cell_type": "code",
     "collapsed": false,
     "input": [
      "def Rsun( Msun, Mp, Rp ):\n",
      "    return (Mp/Msun)*Rp\n",
      "\n",
      "def Period( Msun, Mp, Rp ):\n",
      "    return 2*np.pi*np.sqrt( Rp**3/( G*(Msun+Mp) ) )"
     ],
     "language": "python",
     "metadata": {},
     "outputs": [],
     "prompt_number": 64
    },
    {
     "cell_type": "heading",
     "level": 3,
     "metadata": {},
     "source": [
      "Earth"
     ]
    },
    {
     "cell_type": "code",
     "collapsed": false,
     "input": [
      "print \"Sun is moving around an orbit of %1.3e AU\"%(Rsun( Msun, Mearth, Rearth ))\n",
      "print \"Sun has a period of %1.3e years\"%(Period( Msun, Mearth, Rearth ))\n",
      "print \"Angular distance %1.3e arcsec\"%(180/np.pi*Rsun( Msun, Mearth, Rearth )/(20*206263.37)*3600)"
     ],
     "language": "python",
     "metadata": {},
     "outputs": [
      {
       "output_type": "stream",
       "stream": "stdout",
       "text": [
        "Sun is moving around an orbit of 3.003e-06 AU\n",
        "Sun has a period of 9.999e-01 years\n",
        "Angular distance 1.501e-07 arcsec\n"
       ]
      }
     ],
     "prompt_number": 87
    },
    {
     "cell_type": "heading",
     "level": 3,
     "metadata": {},
     "source": [
      "Jupiter"
     ]
    },
    {
     "cell_type": "code",
     "collapsed": false,
     "input": [
      "print \"Sun is moving around an orbit of %1.3e AU\"%(Rsun( Msun, Mjup, Rjup ))\n",
      "print \"Sun has a period of %1.3e years\"%(Period( Msun, Mjup, Rjup ))\n",
      "print \"Angular distance %1.3e arcsec\"%(180/np.pi*Rsun( Msun, Mjup, Rjup )/(20*206263.37)*3600)"
     ],
     "language": "python",
     "metadata": {},
     "outputs": [
      {
       "output_type": "stream",
       "stream": "stdout",
       "text": [
        "Sun is moving around an orbit of 4.966e-03 AU\n",
        "Sun has a period of 1.186e+01 years\n",
        "Angular distance 2.483e-04 arcsec\n"
       ]
      }
     ],
     "prompt_number": 86
    },
    {
     "cell_type": "heading",
     "level": 3,
     "metadata": {},
     "source": [
      "Hot Jupiter"
     ]
    },
    {
     "cell_type": "code",
     "collapsed": false,
     "input": [
      "print \"Sun is moving around an orbit of %1.3e AU\"%(Rsun( Msun, Mhotjup, Rhotjup ))\n",
      "print \"Sun has a period of %1.3e years\"%(Period( Msun, Mhotjup, Rhotjup ))\n",
      "print \"Angular distance %1.3e arcsec\"%(180/np.pi*Rsun( Msun, Mhotjup, Rhotjup )/(20*206263.37)*3600)"
     ],
     "language": "python",
     "metadata": {},
     "outputs": [
      {
       "output_type": "stream",
       "stream": "stdout",
       "text": [
        "Sun is moving around an orbit of 4.771e-04 AU\n",
        "Sun has a period of 1.113e-02 years\n",
        "Angular distance 2.386e-05 arcsec\n"
       ]
      }
     ],
     "prompt_number": 96
    },
    {
     "cell_type": "heading",
     "level": 3,
     "metadata": {},
     "source": [
      "Comparing with angular resolution of telescopes"
     ]
    },
    {
     "cell_type": "markdown",
     "metadata": {},
     "source": [
      "Ground based single telescopes cannot achieve resolutions higher than $\\sim 0.1$ arcsec due to atmospheric effects. Ground telescope arrays can however achieve much higher resolutions, up to milli-arcsecond. For example the SUSI interferometer can reach resolutions up to $2\\times 10^{-5}\\,$arcsec, which it is enough to detect system like the prevoius Jupiter-Sun system. \n",
      "\n",
      "In the case of space telescopes, the resolution than can be achieved is really high. For example, the Hubble telescope has a resolution of about $0.06\\,$ arcsec, and it can go up to the Gaia resolution of $2\\times 10^-5$ arcsec"
     ]
    },
    {
     "cell_type": "heading",
     "level": 2,
     "metadata": {},
     "source": [
      "2. Spectroscopy"
     ]
    },
    {
     "cell_type": "markdown",
     "metadata": {},
     "source": [
      "It is necessary to perform measurements of redshift in spectral lines of the targeted star system. In the case of the previous planetary systems, and assumning orbital planes completely aligned to the line of sight, the measured velocities are given by:"
     ]
    },
    {
     "cell_type": "heading",
     "level": 3,
     "metadata": {},
     "source": [
      "Earth-like system"
     ]
    },
    {
     "cell_type": "code",
     "collapsed": false,
     "input": [
      "z = (2*np.pi/Period( Msun, Mearth, Rearth )*Rsun( Msun, Mearth, Rearth ))/63239.7\n",
      "print \"Redshift\", z\n",
      "print \"Velocity\", z*299792458, \"m/s\"\n",
      "print \"Doppler shift at 500 nm line\", (z+1)*500"
     ],
     "language": "python",
     "metadata": {},
     "outputs": [
      {
       "output_type": "stream",
       "stream": "stdout",
       "text": [
        "Redshift 2.98355680618e-10\n",
        "Velocity 0.0894447828508 m/s\n",
        "Doppler shift at 500 nm line 500.000000149\n"
       ]
      }
     ],
     "prompt_number": 103
    },
    {
     "cell_type": "heading",
     "level": 3,
     "metadata": {},
     "source": [
      "Jupiter-like system"
     ]
    },
    {
     "cell_type": "code",
     "collapsed": false,
     "input": [
      "z = (2*np.pi/Period( Msun, Mjup, Rjup )*Rsun( Msun, Mjup, Rjup ))/63239.7\n",
      "print \"Redshift\", z\n",
      "print \"Velocity\", z*299792458, \"m/s\"\n",
      "print \"Doppler shift at 500 nm line\", (z+1)*500\n",
      "print \"Doppler shift at 500 nm line from the line\", z*500"
     ],
     "language": "python",
     "metadata": {},
     "outputs": [
      {
       "output_type": "stream",
       "stream": "stdout",
       "text": [
        "Redshift 4.1584740306e-08\n",
        "Velocity 12.4667915116 m/s\n",
        "Doppler shift at 500 nm line 500.000020792\n",
        "Doppler shift at 500 nm line from the line 2.0792370153e-05\n"
       ]
      }
     ],
     "prompt_number": 124
    },
    {
     "cell_type": "heading",
     "level": 3,
     "metadata": {},
     "source": [
      "Hot Jupiter"
     ]
    },
    {
     "cell_type": "code",
     "collapsed": false,
     "input": [
      "z = (2*np.pi/Period( Msun, Mhotjup, Rhotjup )*Rsun( Msun, Mhotjup, Rhotjup ))/63239.7\n",
      "print \"Redshift\", z\n",
      "print \"Velocity\", z*299792458, \"m/s\"\n",
      "print \"Doppler shift at 500 nm line\", (z+1)*525\n",
      "print \"Doppler shift at 500 nm line from the line\", z*525"
     ],
     "language": "python",
     "metadata": {},
     "outputs": [
      {
       "output_type": "stream",
       "stream": "stdout",
       "text": [
        "Redshift 4.26062019648e-06\n",
        "Velocity 1277.30180131 m/s\n",
        "Doppler shift at 500 nm line 525.002236826\n",
        "Doppler shift at 500 nm line from the line 0.00223682560315\n"
       ]
      }
     ],
     "prompt_number": 125
    },
    {
     "cell_type": "markdown",
     "metadata": {},
     "source": [
      "Resolution of HARPS (very high resolution) is around $0.97$ m/s. Certainly enough to detect at least Jupiter-like systems."
     ]
    },
    {
     "cell_type": "heading",
     "level": 3,
     "metadata": {},
     "source": [
      "Detectability of planets around solar mass stars"
     ]
    },
    {
     "cell_type": "code",
     "collapsed": false,
     "input": [
      "Mgrid = np.logspace(-1, 4, 100 )\n",
      "Rgrid = np.linspace( 0.05, 10, 100 )\n",
      "Mmesh, Rmesh = np.meshgrid( Mgrid, Rgrid )\n",
      "Vmesh = (2*np.pi/Period( Msun, Mmesh*Mearth, Rmesh )*Rsun( Msun, Mmesh*Mearth, Rmesh ))/63239.7*299792458\n",
      "plt.figure(figsize=(8,5))\n",
      "plt.imshow(np.transpose(np.log10(Vmesh)[::,::-1]), extent=(-1, 4,0.05,10), aspect='auto')\n",
      "bar = plt.colorbar()\n",
      "bar.set_label('$\\log_{10}(v\\, [m/s])$', fontsize = 16)\n",
      "plt.xlabel('$\\log_{10}(M\\, [M_{\\odot}])$', fontsize = 16 )\n",
      "plt.ylabel('Separation from star $[AU])$', fontsize = 16 )\n",
      "plt.contour(np.log10(Mmesh), Rmesh, np.transpose(np.log10(Vmesh))[::,::])"
     ],
     "language": "python",
     "metadata": {},
     "outputs": [
      {
       "metadata": {},
       "output_type": "pyout",
       "prompt_number": 171,
       "text": [
        "<matplotlib.contour.QuadContourSet instance at 0x7f9424b4f7e8>"
       ]
      },
      {
       "metadata": {},
       "output_type": "display_data",
       "png": "[encoded data removed]",
       "text": [
        "<matplotlib.figure.Figure at 0x7f9424e9e5d0>"
       ]
      }
     ],
     "prompt_number": 171
    },
    {
     "cell_type": "markdown",
     "metadata": {},
     "source": [
      "Linewidhts of solar lines:\n",
      "http://www.columbia.edu/~vjd1/Solar%20Spectrum%20Ex.html"
     ]
    },
    {
     "cell_type": "heading",
     "level": 2,
     "metadata": {},
     "source": [
      "3. Photometry"
     ]
    },
    {
     "cell_type": "code",
     "collapsed": false,
     "input": [
      "def brightness( Rp, Rorb ):\n",
      "    L = Rp**2/((Rorb*1.496e8)**2*4)\n",
      "    return L\n",
      "\n",
      "def m_app( Rp, Rorb, dist ):\n",
      "    Mbol = -2.5*np.log10( brightness( Rp, Rorb ) )\n",
      "    return Mbol + 5*(np.log10(dist)-1)"
     ],
     "language": "python",
     "metadata": {},
     "outputs": [],
     "prompt_number": 182
    },
    {
     "cell_type": "markdown",
     "metadata": {},
     "source": [
      "$$L_{\\star }=L_{0}10^{-0.4M_{\\mathrm {Bol} }}$$\n",
      "$$ M_{\\mathrm {bol} }=-2.5\\log _{10}{\\frac {L_{\\star }}{L_{0}}} $$\n",
      "$$ M=m-5\\left(\\log _{10}d-1\\right) $$"
     ]
    },
    {
     "cell_type": "heading",
     "level": 3,
     "metadata": {},
     "source": [
      "Earth-like system"
     ]
    },
    {
     "cell_type": "code",
     "collapsed": false,
     "input": [
      "print 'Luminosity:', brightness( 6378, Rearth ), 'L_sun'\n",
      "print 'Apparent magnitude:', m_app( 6378, Rearth, 20 )"
     ],
     "language": "python",
     "metadata": {},
     "outputs": [
      {
       "output_type": "stream",
       "stream": "stdout",
       "text": [
        "Luminosity: 4.54407877334e-10 L_sun\n",
        "Apparent magnitude: 24.8615353497\n"
       ]
      }
     ],
     "prompt_number": 184
    },
    {
     "cell_type": "heading",
     "level": 3,
     "metadata": {},
     "source": [
      "Jupiter-like system"
     ]
    },
    {
     "cell_type": "code",
     "collapsed": false,
     "input": [
      "print 'Luminosity:', brightness( 11.21*6378, Rjup ), 'L_sun'\n",
      "print 'Apparent magnitude:', m_app( 11.21*6378, Rjup, 20 )"
     ],
     "language": "python",
     "metadata": {},
     "outputs": [
      {
       "output_type": "stream",
       "stream": "stdout",
       "text": [
        "Luminosity: 2.10854318805e-09 L_sun\n",
        "Apparent magnitude: 23.1951937262\n"
       ]
      }
     ],
     "prompt_number": 185
    },
    {
     "cell_type": "heading",
     "level": 3,
     "metadata": {},
     "source": [
      "Hot Jupiter"
     ]
    },
    {
     "cell_type": "code",
     "collapsed": false,
     "input": [
      "print 'Luminosity:', brightness( 2*11.21*6378, Rhotjup ), 'L_sun'\n",
      "print 'Apparent magnitude:', m_app( 2*11.21*6378, Rhotjup, 20 )"
     ],
     "language": "python",
     "metadata": {},
     "outputs": [
      {
       "output_type": "stream",
       "stream": "stdout",
       "text": [
        "Luminosity: 9.1364411101e-05 L_sun\n",
        "Apparent magnitude: 11.6032073301\n"
       ]
      }
     ],
     "prompt_number": 186
    },
    {
     "cell_type": "heading",
     "level": 3,
     "metadata": {},
     "source": [
      "Calculating radial function"
     ]
    },
    {
     "cell_type": "code",
     "collapsed": false,
     "input": [
      "print \"Angular resolution\", 138/2500."
     ],
     "language": "python",
     "metadata": {},
     "outputs": [
      {
       "output_type": "stream",
       "stream": "stdout",
       "text": [
        "Angular resolution 0.0552\n"
       ]
      }
     ],
     "prompt_number": 194
    },
    {
     "cell_type": "markdown",
     "metadata": {},
     "source": [
      "| System  | Angular separation  |\n",
      "|---|---|\n",
      "| Earth-sun  | $1.501\\times 10^{-7}$ arcsec  |\n",
      "| Jupiter-sun  | $2.483\\times 10^{-4}$ arcsec  |\n",
      "| Hot Jupiter-sun  | $2.386\\times 10^{-5}$ arcsec  |"
     ]
    },
    {
     "cell_type": "heading",
     "level": 3,
     "metadata": {},
     "source": [
      "Calculating transit times"
     ]
    },
    {
     "cell_type": "code",
     "collapsed": false,
     "input": [
      "def TransitTime( Rorb, Rstar, Msun, Mp ):\n",
      "    return 1/np.pi*Period( Msun, Mp, Rorb )*Rstar/Rorb, 1/np.pi*Rstar/Rorb\n",
      "\n",
      "def TransitObscuration( Rp, Rstar ):\n",
      "    return 1 - (Rp/Rstar)**2"
     ],
     "language": "python",
     "metadata": {},
     "outputs": [
      {
       "output_type": "stream",
       "stream": "stdout",
       "text": [
        "\n"
       ]
      }
     ],
     "prompt_number": 208
    },
    {
     "cell_type": "heading",
     "level": 3,
     "metadata": {},
     "source": [
      "Earth-like system"
     ]
    },
    {
     "cell_type": "code",
     "collapsed": false,
     "input": [
      "Transit = TransitTime( Rearth, 0.00465047, Msun, Mearth )\n",
      "print 'Transit time:', Transit[0]*364.25, 'days,  ', Transit[1], 'orbital fraction'\n",
      "print 'Obscuration factor:', (1-TransitObscuration( 6378.0, 695700.0 ))*100, \"%\""
     ],
     "language": "python",
     "metadata": {},
     "outputs": [
      {
       "output_type": "stream",
       "stream": "stdout",
       "text": [
        "Transit time: 0.539140368448 days,   0.0014802905764 orbital fraction\n",
        "Obscuration factor: 0.00840475432061 %\n"
       ]
      }
     ],
     "prompt_number": 212
    },
    {
     "cell_type": "heading",
     "level": 3,
     "metadata": {},
     "source": [
      "Jupiter-like system"
     ]
    },
    {
     "cell_type": "code",
     "collapsed": false,
     "input": [
      "Transit = TransitTime( Rjup, 0.00465047, Msun, Mjup )\n",
      "print 'Transit time:', Transit[0]*364.25, 'days,  ', Transit[1], 'orbital fraction'\n",
      "print 'Obscuration factor:', (1-TransitObscuration( 11.21*6378.0, 695700.0 ))*100, \"%\""
     ],
     "language": "python",
     "metadata": {},
     "outputs": [
      {
       "output_type": "stream",
       "stream": "stdout",
       "text": [
        "Transit time: 1.2293174133 days,   0.000284452455112 orbital fraction\n",
        "Obscuration factor: 1.05617588742 %\n"
       ]
      }
     ],
     "prompt_number": 213
    },
    {
     "cell_type": "heading",
     "level": 3,
     "metadata": {},
     "source": [
      "Hot jupiter system"
     ]
    },
    {
     "cell_type": "code",
     "collapsed": false,
     "input": [
      "Transit = TransitTime( Rhotjup, 0.00465047, Msun, Mhotjup )\n",
      "print 'Transit time:', Transit[0]*364.25, 'days,  ', Transit[1], 'orbital fraction'\n",
      "print 'Obscuration factor:', (1-TransitObscuration( 2*11.21*6378.0, 695700.0 ))*100, \"%\""
     ],
     "language": "python",
     "metadata": {},
     "outputs": [
      {
       "output_type": "stream",
       "stream": "stdout",
       "text": [
        "Transit time: 0.119984516405 days,   0.029605811528 orbital fraction\n",
        "Obscuration factor: 4.22470354969 %\n"
       ]
      }
     ],
     "prompt_number": 214
    },
    {
     "cell_type": "heading",
     "level": 3,
     "metadata": {},
     "source": [
      "Percentage of orbital planes with detectable planets"
     ]
    },
    {
     "cell_type": "code",
     "collapsed": false,
     "input": [
      "(3/(4*np.pi)*1/((2*0.00465047/5.2)/(2*np.pi)*1e-3))**(1/3.0)"
     ],
     "language": "python",
     "metadata": {},
     "outputs": [
      {
       "metadata": {},
       "output_type": "pyout",
       "prompt_number": 11,
       "text": [
        "94.30236546411109"
       ]
      }
     ],
     "prompt_number": 11
    },
    {
     "cell_type": "heading",
     "level": 3,
     "metadata": {},
     "source": [
      "Calculating exposure time"
     ]
    },
    {
     "cell_type": "markdown",
     "metadata": {},
     "source": [
      "http://spiff.rit.edu/classes/phys373/lectures/signal/signal_illus.html"
     ]
    },
    {
     "cell_type": "code",
     "collapsed": false,
     "input": [
      "#Photon detection rate \n",
      "def NPhoton( m ):\n",
      "    return 866000*np.pi*100**2*100**(-m/5.0)"
     ],
     "language": "python",
     "metadata": {},
     "outputs": [],
     "prompt_number": 17
    },
    {
     "cell_type": "markdown",
     "metadata": {},
     "source": [
      "Number of received photons for a solar-type star at $94.30$ pc with apparent magnitude of $21$."
     ]
    },
    {
     "cell_type": "code",
     "collapsed": false,
     "input": [
      "Nmean = NPhoton( 9.67 )"
     ],
     "language": "python",
     "metadata": {},
     "outputs": [],
     "prompt_number": 65
    },
    {
     "cell_type": "markdown",
     "metadata": {},
     "source": [
      "Number of detected photons during eclipse"
     ]
    },
    {
     "cell_type": "code",
     "collapsed": false,
     "input": [
      "Neclip = NPhoton( 9.67 )*(1-(11.26*3670)**2/(695700)**2)"
     ],
     "language": "python",
     "metadata": {},
     "outputs": [],
     "prompt_number": 66
    },
    {
     "cell_type": "markdown",
     "metadata": {},
     "source": [
      "Difference between number of photons before and during transit"
     ]
    },
    {
     "cell_type": "code",
     "collapsed": false,
     "input": [
      "Nmean - Neclip"
     ],
     "language": "python",
     "metadata": {},
     "outputs": [
      {
       "metadata": {},
       "output_type": "pyout",
       "prompt_number": 67,
       "text": [
        "13008.663133242633"
       ]
      }
     ],
     "prompt_number": 67
    },
    {
     "cell_type": "markdown",
     "metadata": {},
     "source": [
      "Dispersion"
     ]
    },
    {
     "cell_type": "code",
     "collapsed": false,
     "input": [
      "sigma = np.sqrt( Nmean )"
     ],
     "language": "python",
     "metadata": {},
     "outputs": [],
     "prompt_number": 68
    },
    {
     "cell_type": "markdown",
     "metadata": {},
     "source": [
      "Exposure time for having a $5\\sigma$ detection:\n",
      "\n",
      "$$ \\Delta N t = 5 \\sqrt{ \\bar{N} t } $$\n",
      "\n",
      "Solving for $t$:\n",
      "\n",
      "$$ t = \\sqrt{ \\frac{5\\sqrt{\\bar{N}}}{\\Delta N} } $$"
     ]
    },
    {
     "cell_type": "code",
     "collapsed": false,
     "input": [
      "np.sqrt(5*np.sqrt(Nmean)/(Nmean - Neclip))"
     ],
     "language": "python",
     "metadata": {},
     "outputs": [
      {
       "metadata": {},
       "output_type": "pyout",
       "prompt_number": 69,
       "text": [
        "0.85908395842414409"
       ]
      }
     ],
     "prompt_number": 69
    },
    {
     "cell_type": "heading",
     "level": 1,
     "metadata": {},
     "source": [
      "Task 9: Extragalactic Astronomy"
     ]
    },
    {
     "cell_type": "heading",
     "level": 2,
     "metadata": {},
     "source": [
      "1. Classification of galaxies in the Virgo Cluster"
     ]
    },
    {
     "cell_type": "code",
     "collapsed": false,
     "input": [
      "Data = np.genfromtxt('Galaxies_Virgo.txt',dtype='str')"
     ],
     "language": "python",
     "metadata": {},
     "outputs": [],
     "prompt_number": 28
    },
    {
     "cell_type": "code",
     "collapsed": false,
     "input": [
      "GalaxiesTypes = [ ['E0'], ['E3'], ['E7'], ['S0', 'SB0'], ['Sa', 'SBa'], ['Sb', 'SBb'], ['Sc', 'SBc'], ['Irr'] ]\n",
      "Counts = np.zeros( len(GalaxiesTypes) )\n",
      "Flag = np.zeros( len(Data[:,0]) )\n",
      "\n",
      "for galaxytypes, i in zip(GalaxiesTypes, xrange(len(Counts))):\n",
      "    for galaxytype in galaxytypes:\n",
      "        Counts[i] += np.sum( Data[:,-1] == galaxytype )\n",
      "        Flag[Data[:,-1] == galaxytype] = 1"
     ],
     "language": "python",
     "metadata": {},
     "outputs": [],
     "prompt_number": 58
    },
    {
     "cell_type": "code",
     "collapsed": false,
     "input": [
      "for galaxytypes, i in zip(GalaxiesTypes, xrange(len(Counts))):\n",
      "    print galaxytypes, 100*Counts[i]/Counts.sum(), \"%\""
     ],
     "language": "python",
     "metadata": {},
     "outputs": [
      {
       "output_type": "stream",
       "stream": "stdout",
       "text": [
        "['E0'] 12.5 %\n",
        "['E3'] 11.25 %\n",
        "['E7'] 12.5 %\n",
        "['S0', 'SB0'] 28.75 %\n",
        "['Sa', 'SBa'] 12.5 %\n",
        "['Sb', 'SBb'] 7.5 %\n",
        "['Sc', 'SBc'] 12.5 %\n",
        "['Irr'] 2.5 %\n"
       ]
      }
     ],
     "prompt_number": 64
    },
    {
     "cell_type": "markdown",
     "metadata": {},
     "source": [
      "| **Type**  | **Virgo**  | **Field Galaxies** | **Local Group ** |\n",
      "|---|---|---|---|\n",
      "| E | 36.25% | 10% | 2% |\n",
      "| S0/SB0 | 28.75% | 12% | - |\n",
      "| Sa/SBa | 12.5% | 10% | 4% |\n",
      "| Sb/SBb | 7.5% | 23% | 4% |\n",
      "| Sc/SBc | 12.5% | 32% | - |\n",
      "| Irr    | 2.5% | 3% | 27% |\n",
      "| Dwarf    | - | 10% | 69% |"
     ]
    },
    {
     "cell_type": "code",
     "collapsed": false,
     "input": [
      "Center = [186.54066, 12.94347]\n",
      "mask_more_75 = np.sqrt((Data[:,1].astype(float)-Center[0])**2 + (Data[:,2].astype(float)-Center[1])**2)>1.25\n",
      "mask_less_75 = np.sqrt((Data[:,1].astype(float)-Center[0])**2 + (Data[:,2].astype(float)-Center[1])**2)<=1.25\n",
      "\n",
      "plt.plot( Data[:,1].astype(float)[mask_more_75]-Center[0], Data[:,2].astype(float)[mask_more_75]-Center[1], 'o', color = 'orange' )\n",
      "plt.plot( Data[:,1].astype(float)[mask_less_75]-Center[0], Data[:,2].astype(float)[mask_less_75]-Center[1], 'o' )\n",
      "plt.plot( (0,), (0,), 'o', color='red', ms = 10 )"
     ],
     "language": "python",
     "metadata": {},
     "outputs": [
      {
       "metadata": {},
       "output_type": "pyout",
       "prompt_number": 81,
       "text": [
        "[<matplotlib.lines.Line2D at 0x7f49b3787790>]"
       ]
      },
      {
       "metadata": {},
       "output_type": "display_data",
       "png": "[encoded data removed]",
       "text": [
        "<matplotlib.figure.Figure at 0x7f49b3853910>"
       ]
      }
     ],
     "prompt_number": 81
    },
    {
     "cell_type": "heading",
     "level": 3,
     "metadata": {},
     "source": [
      "Distribution of galaxies below 75 arcmin"
     ]
    },
    {
     "cell_type": "code",
     "collapsed": false,
     "input": [
      "GalaxiesTypes = [ ['E0'], ['E3'], ['E7'], ['S0'], ['SB0'], ['Sa'], ['SBa'], ['Sb'], ['SBb'], ['Sc'], ['SBc'], ['Irr'] ]\n",
      "Countsb = np.zeros( len(GalaxiesTypes) )\n",
      "\n",
      "for galaxytypes, i in zip(GalaxiesTypes, xrange(len(Counts))):\n",
      "    for galaxytype in galaxytypes:\n",
      "        Countsb[i] += np.sum( Data[:,-1][mask_less_75] == galaxytype )\n",
      "        Flag[Data[:,-1] == galaxytype] = 1\n",
      "\n",
      "for galaxytypes, i in zip(GalaxiesTypes, xrange(len(Countsb))):\n",
      "    print galaxytypes, Countsb[i]"
     ],
     "language": "python",
     "metadata": {},
     "outputs": [
      {
       "output_type": "stream",
       "stream": "stdout",
       "text": [
        "['E0'] 4.0\n",
        "['E3'] 3.0\n",
        "['E7'] 3.0\n",
        "['S0'] 3.0\n",
        "['SB0'] 3.0\n",
        "['Sa'] 2.0\n",
        "['SBa'] 1.0\n",
        "['Sb'] 1.0\n",
        "['SBb'] 0.0\n",
        "['Sc'] 0.0\n",
        "['SBc'] 0.0\n",
        "['Irr'] 0.0\n"
       ]
      }
     ],
     "prompt_number": 91
    },
    {
     "cell_type": "code",
     "collapsed": false,
     "input": [
      "print \"Ratio 1:\", Countsb[0:5].sum()/Countsb[5:].sum()\n",
      "print \"Ratio 2:\", (Countsb[6]+Countsb[8]+Countsb[10])/(Countsb[5]+Countsb[7]+Countsb[9])"
     ],
     "language": "python",
     "metadata": {},
     "outputs": [
      {
       "output_type": "stream",
       "stream": "stdout",
       "text": [
        "Ratio 1: 4.0\n",
        "Ratio 2: 0.333333333333\n"
       ]
      }
     ],
     "prompt_number": 105
    },
    {
     "cell_type": "heading",
     "level": 3,
     "metadata": {},
     "source": [
      "Distribution of galaxies above 75 arcmin"
     ]
    },
    {
     "cell_type": "code",
     "collapsed": false,
     "input": [
      "GalaxiesTypes = [ ['E0'], ['E3'], ['E7'], ['S0'], ['SB0'], ['Sa'], ['SBa'], ['Sb'], ['SBb'], ['Sc'], ['SBc'], ['Irr'] ]\n",
      "Countsa = np.zeros( len(GalaxiesTypes) )\n",
      "\n",
      "for galaxytypes, i in zip(GalaxiesTypes, xrange(len(Countsa))):\n",
      "    for galaxytype in galaxytypes:\n",
      "        Countsa[i] += np.sum( Data[:,-1][mask_more_75] == galaxytype )\n",
      "        Flag[Data[:,-1] == galaxytype] = 1\n",
      "\n",
      "for galaxytypes, i in zip(GalaxiesTypes, xrange(len(Countsa))):\n",
      "    print galaxytypes, Countsa[i]"
     ],
     "language": "python",
     "metadata": {},
     "outputs": [
      {
       "output_type": "stream",
       "stream": "stdout",
       "text": [
        "['E0'] 6.0\n",
        "['E3'] 6.0\n",
        "['E7'] 7.0\n",
        "['S0'] 15.0\n",
        "['SB0'] 2.0\n",
        "['Sa'] 6.0\n",
        "['SBa'] 1.0\n",
        "['Sb'] 3.0\n",
        "['SBb'] 2.0\n",
        "['Sc'] 6.0\n",
        "['SBc'] 3.0\n",
        "['Irr'] 1.0\n"
       ]
      }
     ],
     "prompt_number": 92
    },
    {
     "cell_type": "code",
     "collapsed": false,
     "input": [
      "print \"Ratio 1:\", Countsa[0:5].sum()/Countsa[5:].sum()\n",
      "print \"Ratio 2:\", (Countsa[6]+Countsa[8]+Countsa[10])/(Countsa[5]+Countsa[7]+Countsa[9])"
     ],
     "language": "python",
     "metadata": {},
     "outputs": [
      {
       "output_type": "stream",
       "stream": "stdout",
       "text": [
        "Ratio 1: 1.63636363636\n",
        "Ratio 2: 0.4\n"
       ]
      }
     ],
     "prompt_number": 106
    },
    {
     "cell_type": "markdown",
     "metadata": {},
     "source": [
      "Physical distance corresponding to $76$ arcmin in the Virgo cluster is: $436$ kpc"
     ]
    },
    {
     "cell_type": "markdown",
     "metadata": {},
     "source": [
      "- - -"
     ]
    },
    {
     "cell_type": "heading",
     "level": 2,
     "metadata": {},
     "source": [
      "3. Quasars and cosmology"
     ]
    },
    {
     "cell_type": "code",
     "collapsed": false,
     "input": [
      "def hms2dd(hours, minutes, seconds):\n",
      "    dd = ((float(hours)*3600 + float(minutes)*60 + float(seconds))/(24*3600)*360)*np.pi/180\n",
      "    return dd\n",
      "\n",
      "def dms2dd(degrees, minutes, seconds):\n",
      "    dd = (float(degrees) + float(minutes)/60 + float(seconds)/(60*60))*np.pi/180\n",
      "    return dd"
     ],
     "language": "python",
     "metadata": {},
     "outputs": [],
     "prompt_number": 141
    },
    {
     "cell_type": "code",
     "collapsed": false,
     "input": [
      "832*np.sqrt(( hms2dd(12, 26, 34.51) - hms2dd(12, 26, 29.40) )**2 + ( dms2dd(2, 20, 10.5) - dms2dd(2, 18, 51.1) )**2)/8*1e3"
     ],
     "language": "python",
     "metadata": {},
     "outputs": [
      {
       "metadata": {},
       "output_type": "pyout",
       "prompt_number": 144,
       "text": [
        "55.644777075374378"
       ]
      }
     ],
     "prompt_number": 144
    },
    {
     "cell_type": "code",
     "collapsed": false,
     "input": [
      "def LCDM_solutions( z, OmegaM ):\n",
      "    s = ((1.0-OmegaM)/OmegaM)**(1/3.0)\n",
      "    eta = lambda z: 2*(s**3+1)**0.5*( (1+z)**4 - 0.1540*s*(1+z)**3 + 0.4304*s**2*(1+z)**2 + 0.19097*s**3*(1+z)+0.066941*s**4 )**(-1/8.)\n",
      "    dL = (299792.5/67e3)*(1+z)*(eta(0)-eta(z))\n",
      "    return dL"
     ],
     "language": "python",
     "metadata": {},
     "outputs": [],
     "prompt_number": 1
    },
    {
     "cell_type": "code",
     "collapsed": false,
     "input": [
      "Distance = 7319.2e6"
     ],
     "language": "python",
     "metadata": {},
     "outputs": [],
     "prompt_number": 7
    },
    {
     "cell_type": "code",
     "collapsed": false,
     "input": [
      "-20.5 + 5*(np.log10(Distance) -1 )"
     ],
     "language": "python",
     "metadata": {},
     "outputs": [
      {
       "metadata": {},
       "output_type": "pyout",
       "prompt_number": 8,
       "text": [
        "23.822318072933726"
       ]
      }
     ],
     "prompt_number": 8
    },
    {
     "cell_type": "heading",
     "level": 1,
     "metadata": {},
     "source": [
      "Task 7: Crab Nebula"
     ]
    },
    {
     "cell_type": "heading",
     "level": 3,
     "metadata": {},
     "source": [
      "Radial velocity expansion"
     ]
    },
    {
     "cell_type": "code",
     "collapsed": false,
     "input": [
      "dl = (0.85/3.15*(3869-3727))/2\n",
      "print dl"
     ],
     "language": "python",
     "metadata": {},
     "outputs": [
      {
       "output_type": "stream",
       "stream": "stdout",
       "text": [
        "19.1587301587\n"
       ]
      }
     ],
     "prompt_number": 16
    },
    {
     "cell_type": "code",
     "collapsed": false,
     "input": [
      "vel = dl/3727.*0.307\n",
      "print vel"
     ],
     "language": "python",
     "metadata": {},
     "outputs": [
      {
       "output_type": "stream",
       "stream": "stdout",
       "text": [
        "0.00157814063824\n"
       ]
      }
     ],
     "prompt_number": 15
    },
    {
     "cell_type": "heading",
     "level": 3,
     "metadata": {},
     "source": [
      "Angular velocity "
     ]
    },
    {
     "cell_type": "code",
     "collapsed": false,
     "input": [
      "Omega = (6.9-6.522)*(576/33.9)/(34)*4.8481368111E-6"
     ],
     "language": "python",
     "metadata": {},
     "outputs": [],
     "prompt_number": 24
    },
    {
     "cell_type": "code",
     "collapsed": false,
     "input": [
      "vel/Omega"
     ],
     "language": "python",
     "metadata": {},
     "outputs": [
      {
       "metadata": {},
       "output_type": "pyout",
       "prompt_number": 20,
       "text": [
        "1723.1979469513703"
       ]
      }
     ],
     "prompt_number": 20
    },
    {
     "cell_type": "code",
     "collapsed": false,
     "input": [
      "Omega"
     ],
     "language": "python",
     "metadata": {},
     "outputs": [
      {
       "metadata": {},
       "output_type": "pyout",
       "prompt_number": 22,
       "text": [
        "0.18890161374284234"
       ]
      }
     ],
     "prompt_number": 22
    },
    {
     "cell_type": "heading",
     "level": 3,
     "metadata": {},
     "source": [
      "Pulsar periods"
     ]
    },
    {
     "cell_type": "code",
     "collapsed": false,
     "input": [
      "27.4/(27.1/3)"
     ],
     "language": "python",
     "metadata": {},
     "outputs": [
      {
       "metadata": {},
       "output_type": "pyout",
       "prompt_number": 25,
       "text": [
        "3.033210332103321"
       ]
      }
     ],
     "prompt_number": 25
    },
    {
     "cell_type": "code",
     "collapsed": false,
     "input": [
      "11.63/(27.1/3)"
     ],
     "language": "python",
     "metadata": {},
     "outputs": [
      {
       "metadata": {},
       "output_type": "pyout",
       "prompt_number": 26,
       "text": [
        "1.2874538745387456"
       ]
      }
     ],
     "prompt_number": 26
    },
    {
     "cell_type": "code",
     "collapsed": false,
     "input": [
      "def dispersion(dt):\n",
      "    return dt/(4150*(1/234.**2 - 1/405.**2))"
     ],
     "language": "python",
     "metadata": {},
     "outputs": [],
     "prompt_number": 27
    },
    {
     "cell_type": "code",
     "collapsed": false,
     "input": [
      "dispersion(0.1605)"
     ],
     "language": "python",
     "metadata": {},
     "outputs": [
      {
       "metadata": {},
       "output_type": "pyout",
       "prompt_number": 28,
       "text": [
        "3.178862423749855"
       ]
      }
     ],
     "prompt_number": 28
    },
    {
     "cell_type": "code",
     "collapsed": false,
     "input": [
      "dispersion(0.2878)"
     ],
     "language": "python",
     "metadata": {},
     "outputs": [
      {
       "metadata": {},
       "output_type": "pyout",
       "prompt_number": 29,
       "text": [
        "5.700165766699117"
       ]
      }
     ],
     "prompt_number": 29
    },
    {
     "cell_type": "markdown",
     "metadata": {},
     "source": [
      "| **Pulsar** | **Period** | **Dispersion** | **Distances** | **Real Distance**  |\n",
      "|---|---|---|\n",
      "| PSR 0329 + 54      |      0.709s |   26.5   |      883 pc |     1060 pc           |\n",
      "| PSR 0950 + 08      |     3.03s  |   3.18        |   106 pc |      262 pc        |\n",
      "| PSR 0809 + 74:     |      1.29s  |    5.7         |   190 pc |     - |"
     ]
    },
    {
     "cell_type": "code",
     "collapsed": false,
     "input": [
      "print 'Density electrons in Crab nebula:', 56/1723.20,\"1/cm\u00b3\""
     ],
     "language": "python",
     "metadata": {},
     "outputs": [
      {
       "output_type": "stream",
       "stream": "stdout",
       "text": [
        "Density electrons in Crab nebula: 0.0324976787372 1/cm\u00b3\n"
       ]
      }
     ],
     "prompt_number": 35
    },
    {
     "cell_type": "heading",
     "level": 2,
     "metadata": {},
     "source": [
      "Part 1. Spectra"
     ]
    },
    {
     "cell_type": "code",
     "collapsed": false,
     "input": [
      "Index1 = -1.3\n",
      "Index2 = -0.3"
     ],
     "language": "python",
     "metadata": {},
     "outputs": [],
     "prompt_number": 36
    },
    {
     "cell_type": "markdown",
     "metadata": {},
     "source": [
      "- - -"
     ]
    }
   ],
   "metadata": {}
  }
 ]
}